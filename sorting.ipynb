{
	"cells": [
		{
			"cell_type": "markdown",
			"metadata": {},
			"source": [
				"<style>\n",
				"@media print {\n",
				"  .jp-InputPrompt{\n",
				"    display: none;\n",
				"  }\n",
				"  .jp-RenderedMarkdown{\n",
				"    padding: 0;\n",
				"  }\n",
				"  section {\n",
				"    display: flex;\n",
				"    flex-direction: column;\n",
				"    align-items: center;\n",
				"    justify-content: space-around;\n",
				"    height: 100vh;\n",
				"  }\n",
				"  .part {\n",
				"    display: flex;\n",
				"    justify-content: center;\n",
				"    align-items: flex-end;\n",
				"    flex-direction: column;\n",
				"    align-self: end;\n",
				"  }\n",
				"}\n",
				".jp-OutputArea-child:nth-child(2) .jp-RenderedImage{\n",
				"  display: none;\n",
				"}\n",
				"</style>\n",
				"\n",
				"<section>\n",
				"<div>\n",
				"\n",
				"# Gymnázium, Golianova 68, Nitra\n",
				"</div>\n",
				"\n",
				"<div>\n",
				"\n",
				"# Ročníková práca: Triedenie lineárnych štruktúr\n",
				"</div>\n",
				"\n",
				"<div class=\"part\">\n",
				"\n",
				"Jaroslav Rojík\n",
				"\n",
				"IV.AJ\n",
				"\n",
				"2023/2024\n",
				"</div>\n",
				"</section>"
			]
		},
		{
			"cell_type": "markdown",
			"metadata": {},
			"source": [
				"## Úvod\n",
				"Triedenie je základná operácia v informatike a zohráva kľúčovú úlohu v rôznych aplikáciách, od jednoduchých úloh správy údajov až po zložité algoritmické problémy. V jeho podstate triedenie znamená usporiadanie kolekcie položiek podľa určitých kritérií.\n",
				"\n",
				"V tejto ročníkovej práci sa budem zaoberať triediacimi algoritmami. Vysvetlím, čo sú to triediace algoritmy, prečo sú dôležité a aké sú ich základné vlastnosti. Taktiež sa pozriem na niektoré z najznámejších triediacich algoritmov a porovnám ich efektívnosť a zložitosť.\n",
				"\n",
				"### Dôvod tvorby projektu\n",
				"Triediace algoritmy sú základnou súčasťou počítačovej vedy a majú široké uplatnenie v rôznych oblastiach informatiky. Vytvorenie projektu o metódach triedenia umožňuje hlbšie porozumenie základným algoritmom a dátovým štruktúram, čím sa zvýšia zručnosti pri riešení problémov. Poskytuje praktické skúsenosti s implementáciou a testovaním rôznych triediacich algoritmov, čo vedie ku komplexnému pochopeniu ich účinnosti a vhodnosti pre rôzne scenáre.\n",
				"\n",
				"### Metodika práce\n",
				"1. Vytvorenie testovacej funkcie\n",
				"2. Vytvorenie jednotlivých triediacich algoritmov\n",
				"\n",
				"3. Vytvorenie vizualizačnej funkcie\n",
				"4. Vizualizácia jednotlivých triediacich algoritmov\n",
				"\n",
				"5. Vytvorenie porovnávacej funkcie\n",
				"6. Porovnanie jednotlivých triediacich algoritmov\n",
				"\n",
				"<br>\n",
				"\n",
				"### Stanovenie cieľa\n",
				"Cieľom práce je porovnať a analyzovať niektoré z najznámejších triediacich algoritmov a zistiť, ktorý z nich je najefektívnejší a najvhodnejší pre rôzne typy dát a veľkosti problémov.\n",
				"\n",
				"<br>\n",
				"\n",
				"### Stanovenie hypotézy\n",
				"Pri porovnávaní triediacich algoritmov sa často skúma ich časová a priestorová zložitosť. Napríklad, Bubblesort má časovú zložitosť O(n^2), čo sa pri veľkých poliach neškáluje dobre. Quicksort má priemernú časovú zložitosť O(n log n), ale najhorší prípad má časovú zložitosť O(n^2). Platí aj to, že Mergesort má časovú zložitosť O(n log n) pre všetky prípady, ale vyžaduje viac pamäte. Na základe týchto informácií sa dá predpokladať, že Mergesort a Quicksort budú najefektívnejšie.\n",
				"\n",
				"<br>\n",
				"\n",
				"### Dôležitosť triedenia\n",
				"Význam triediacich algoritmov vyplýva z ich všadeprítomného použitia v každodennom živote a ich nevyhnutnej úlohy v počítačovom programovaní a vývoji softvéru. Tu sú niektoré kľúčové dôvody, prečo je triedenie dôležité:\n",
				"\n",
				"1.  Organizácia dát: Triedenie umožňuje organizáciu dát v štruktúrovanej forme, čím uľahčuje ich rýchlejšie vyhľadávanie, získavanie a analýzu.\n",
				"\n",
				"2.  Získavanie informácií: Triedené dáta uľahčujú rýchlejšie vyhľadávanie a získavanie informácii. Vyhľadávanie v triedenom zozname je efektívnejšie, pretože môžeme použiť vyhľadávacie algoritmy ako napríklad binárne hľadanie.\n",
				"\n",
				"<br>\n",
				"\n",
				"### Rozsah triediacich algoritmov\n",
				"Triediace algoritmy sa líšia v zložitosti, efektívnosti a vhodnosti pre rôzne typy dát a veľkosti problémov. Môžu byť klasifikované podľa ich základných princípov, ako aj podľa ich časovej a priestorovej zložitosti.\n",
				"\n",
				"Existujú rôzne triediace algoritmy, od jednoduchých a intuitívnych metód ako Bubble sort a Insert sort po sofistikovanejšie metódy ako Merge sort, Quick sort atď.\n",
				"\n",
				"<br>\n",
				"\n",
				"### Typy triediacich algoritmov\n",
				"Porovnávacie triediace algoritmy sú najbežnejším typom a pracujú porovnávaním jednotlivých prvkov vstupnej kolekcie a ich postupným presúvaním do správneho poradia. Tu sú niektoré z najznámejších porovnávacích triediacich algoritmov na ktoré sa pozriem v tejto práci:\n",
				"\n",
				"- Bubble Sort\n",
				"- Selection Sort\n",
				"- Insertion Sort\n",
				"- Merge Sort\n",
				"- Quick Sort"
			]
		},
		{
			"cell_type": "markdown",
			"metadata": {},
			"source": [
				"#### Testovacia funkcia"
			]
		},
		{
			"cell_type": "code",
			"execution_count": null,
			"metadata": {
				"slideshow": {
					"slide_type": "slide"
				},
				"tags": []
			},
			"outputs": [],
			"source": [
				"import random\n",
				"\n",
				"generated_data = [random.randint(1, 100) for _ in range(30)]\n",
				"\n",
				"\n",
				"def test(func):\n",
				"  data = generated_data.copy()\n",
				"  print(data)\n",
				"  func(data)\n",
				"  print(data)\n"
			]
		},
		{
			"cell_type": "markdown",
			"metadata": {},
			"source": [
				"#### Bubble Sort\n",
				"Bubble Sort je jednoduchý algoritmus, ktorý opakovane prechádza cez zoznam a porovnáva susedné prvky. Ak sú v nesprávnom poradí, vymenia sa. Tento proces sa opakuje, kým nie sú všetky prvky usporiadané.\n",
				"\n",
				"Tento algoritmus má časovú zložitosť O(n^2). Je vhodný pre malé zoznamy ale nie je efektívny pre veľké množstvo dát."
			]
		},
		{
			"cell_type": "code",
			"execution_count": null,
			"metadata": {},
			"outputs": [],
			"source": [
				"def bubble_sort(arr):\n",
				"  n = len(arr)\n",
				"  # swapped = False\n",
				"  for i in range(n - 1):\n",
				"    for j in range(0, n - i - 1):\n",
				"      if arr[j] > arr[j + 1]:\n",
				"        arr[j], arr[j + 1] = arr[j + 1], arr[j]\n",
				"    #     swapped = True\n",
				"    # if not swapped:\n",
				"    #   break\n",
				"\n",
				"test(bubble_sort)"
			]
		},
		{
			"cell_type": "markdown",
			"metadata": {},
			"source": [
				"#### Selection Sort\n",
				"Selection Sort funguje tak, že v každom kroku nájde najmenší nepremiestnený prvok a presunie ho na správnu pozíciu. Tento proces sa opakuje, kým nie je celý zoznam usporiadaný.\n",
				"\n",
				"Časová zložitosť tohto algoritmu je tiež O(n^2), ale môže byť v praxi efektívnejší ako bublinkové triedenie pre veľké zoznamy, pretože má menej výmen."
			]
		},
		{
			"cell_type": "code",
			"execution_count": null,
			"metadata": {},
			"outputs": [],
			"source": [
				"def selection_sort(arr):\n",
				"  for step in range(len(arr)):\n",
				"    min_index = step\n",
				"\n",
				"    for i in range(step + 1, len(arr)):\n",
				"      if arr[i] < arr[min_index]:\n",
				"        min_index = i\n",
				"    arr[step], arr[min_index] = arr[min_index], arr[step]\n",
				"\n",
				"test(selection_sort)"
			]
		},
		{
			"cell_type": "markdown",
			"metadata": {},
			"source": [
				"#### Insertion Sort\n",
				"Insertion Sort funguje tak, že postupne vkladá prvky z neusporiadanej časti zoznamu do už usporiadanej časti zoznamu tak, aby výsledný zoznam bol usporiadaný. Tento proces sa opakuje, kým nie sú všetky prvky vložené do usporiadanej časti.\n",
				"\n",
				"Tento algoritmus má tiež časovú zložitosť O(n^2), ale je efektívnejší pre zoznamy, ktoré sú už čiastočne usporiadané."
			]
		},
		{
			"cell_type": "code",
			"execution_count": null,
			"metadata": {},
			"outputs": [],
			"source": [
				"def insertion_sort(arr):\n",
				"  for i in range(1, len(arr)):\n",
				"    key = arr[i]\n",
				"    j = i - 1\n",
				"    while j >= 0 and key < arr[j]:\n",
				"      arr[j + 1] = arr[j]\n",
				"      j -= 1\n",
				"    arr[j + 1] = key\n",
				"\n",
				"test(insertion_sort)"
			]
		},
		{
			"cell_type": "markdown",
			"metadata": {},
			"source": [
				"#### Merge Sort\n",
				"Merge Sort je efektívny algoritmus, ktorý využíva princíp rozdelenia a zlúčenia. Postupne delí zoznam na polovice, triedi ich a potom zlúči do výsledného usporiadaného zoznamu.\n",
				"\n",
				"Tento algoritmus má časovú zložitosť O(n log n), čo ho robí efektívnym pre veľké zoznamy. Jeho hlavnou nevýhodou je potreba dodatočnej pamäte pre zlúčenie podzoznamov."
			]
		},
		{
			"cell_type": "code",
			"execution_count": null,
			"metadata": {},
			"outputs": [],
			"source": [
				"def merge_sort(arr):\n",
				"  if len(arr) > 1:\n",
				"    mid = len(arr) // 2\n",
				"    L = arr[:mid]\n",
				"    R = arr[mid:]\n",
				"    merge_sort(L)\n",
				"    merge_sort(R)\n",
				"    i = j = k = 0\n",
				"    while i < len(L) and j < len(R):\n",
				"      if L[i] <= R[j]:\n",
				"        arr[k] = L[i]\n",
				"        i += 1\n",
				"      else:\n",
				"        arr[k] = R[j]\n",
				"        j += 1\n",
				"      k += 1\n",
				"    while i < len(L):\n",
				"      arr[k] = L[i]\n",
				"      i += 1\n",
				"      k += 1\n",
				"    while j < len(R):\n",
				"      arr[k] = R[j]\n",
				"      j += 1\n",
				"      k += 1\n",
				"\n",
				"test(merge_sort)"
			]
		},
		{
			"cell_type": "markdown",
			"metadata": {},
			"source": [
				"#### Quick Sort\n",
				"Quick Sort je založené na princípe rozdelenia a zjednotenia podľa pivotu. Zoznam je rozdelený na dve podmnožiny na základe pivotu a potom sú obe podmnožiny triedené rekurzívne.\n",
				"\n",
				"Tento algoritmus má priemernú časovú zložitosť O(n log n) a je často jedným z najrýchlejších triediacich algoritmov. Jeho efektivita však môže klesať v prípade, že je zoznam veľmi nevyvážený."
			]
		},
		{
			"cell_type": "code",
			"execution_count": null,
			"metadata": {},
			"outputs": [],
			"source": [
				"def quick_sort(array, low, high):\n",
				"  if low < high:\n",
				"    pivot = array[high]\n",
				"    i = low - 1\n",
				"    for j in range(low, high):\n",
				"      if array[j] <= pivot:\n",
				"        i += 1\n",
				"        array[i], array[j] = array[j], array[i]\n",
				"\n",
				"    array[i + 1], array[high] = array[high], array[i + 1]\n",
				"    pi = i + 1\n",
				"    quick_sort(array, low, pi - 1)\n",
				"    quick_sort(array, pi + 1, high)\n",
				"\n",
				"test(lambda arr: quick_sort(arr, 0, len(arr) - 1))"
			]
		},
		{
			"cell_type": "markdown",
			"metadata": {},
			"source": [
				"Vizualizácia triediacich algoritmov\n",
				"-----------------------------------\n",
				"\n",
				"Vizualizácia triediacich algoritmov je užitočný nástroj na pochopenie ich fungovania a porovnanie ich efektivity."
			]
		},
		{
			"cell_type": "code",
			"execution_count": null,
			"metadata": {},
			"outputs": [],
			"source": [
				"from matplotlib.animation import FuncAnimation\n",
				"import matplotlib.pyplot as plt\n",
				"import matplotlib as mp\n",
				"import random\n",
				"\n",
				"n = 15\n",
				"delay = 100\n",
				"arr = [i for i in range(1, n + 1)]\n",
				"random.shuffle(arr)\n",
				"\n",
				"def show(generator):\n",
				"  data = []\n",
				"  for i in generator(arr.copy()):\n",
				"    data.append(i.copy())\n",
				"\n",
				"  plt.style.use('fivethirtyeight')\n",
				"  plt.rcParams['animation.html'] = 'jshtml'\n",
				"  # plt.rcParams[\"figure.dpi\"] = 150\n",
				"  # plt.ioff()\n",
				"\n",
				"  fig, ax = plt.subplots()\n",
				"  rects = ax.bar(range(n), arr, align='edge', color=(0.54, 0.04, 0.04))\n",
				"\n",
				"  ax.set_xlim(0, n)\n",
				"  ax.set_ylim(0, int(1.1 * n))\n",
				"\n",
				"  text = ax.text(0.01, 0.95, '', transform=ax.transAxes)\n",
				"\n",
				"  iteration = [0]\n",
				"\n",
				"  def animate(A, rects, iteration):\n",
				"    for rect, val in zip(rects, A):\n",
				"      rect.set_height(val)\n",
				"\n",
				"    text.set_text(f'iterations : {iteration[0]}')\n",
				"    iteration[0] += 1\n",
				"\n",
				"  return FuncAnimation(\n",
				"    fig,\n",
				"    func=animate,\n",
				"    fargs=(rects, iteration),\n",
				"    frames=data,\n",
				"    interval=delay,\n",
				"  )\n"
			]
		},
		{
			"cell_type": "markdown",
			"metadata": {},
			"source": [
				"#### Vizualizácia Bubble Sortu"
			]
		},
		{
			"cell_type": "code",
			"execution_count": null,
			"metadata": {},
			"outputs": [],
			"source": [
				"def bubblesort(arr):\n",
				"  n = len(arr)\n",
				"  for i in range(n - 1):\n",
				"    swapped = False\n",
				"    for j in range(0, n - i - 1):\n",
				"      if arr[j] > arr[j + 1]:\n",
				"        arr[j], arr[j + 1] = arr[j + 1], arr[j]\n",
				"        swapped = True\n",
				"        yield arr\n",
				"    if swapped == False:\n",
				"      break\n",
				"\n",
				"show(bubblesort)"
			]
		},
		{
			"cell_type": "markdown",
			"metadata": {},
			"source": [
				"#### Vizualizácia Selection Sortu"
			]
		},
		{
			"cell_type": "code",
			"execution_count": null,
			"metadata": {},
			"outputs": [],
			"source": [
				"def selectionsort(arr):\n",
				"  for step in range(len(arr)):\n",
				"    min_idx = step\n",
				"\n",
				"    for i in range(step + 1, len(arr)):\n",
				"      if arr[i] < arr[min_idx]:\n",
				"        min_idx = i\n",
				"    (arr[step], arr[min_idx]) = (arr[min_idx], arr[step])\n",
				"    yield arr\n",
				"\n",
				"show(selectionsort)\n"
			]
		},
		{
			"cell_type": "markdown",
			"metadata": {},
			"source": [
				"#### Vizualizácia Insertion Sortu"
			]
		},
		{
			"cell_type": "code",
			"execution_count": null,
			"metadata": {},
			"outputs": [],
			"source": [
				"def insertionsort(arr):\n",
				"  for j in range(1, len(arr)):\n",
				"    key = arr[j]\n",
				"    i = j - 1\n",
				"\n",
				"    while i >= 0 and arr[i] > key:\n",
				"      arr[i + 1] = arr[i]\n",
				"      i -= 1\n",
				"      yield arr\n",
				"    arr[i + 1] = key\n",
				"    yield arr\n",
				"\n",
				"show(insertionsort)"
			]
		},
		{
			"cell_type": "markdown",
			"metadata": {},
			"source": [
				"#### Vizualizácia Merge Sortu"
			]
		},
		{
			"cell_type": "code",
			"execution_count": null,
			"metadata": {},
			"outputs": [],
			"source": [
				"def mergesort(A, start, end):\n",
				"  if end <= start:\n",
				"    return\n",
				"\n",
				"  mid = start + ((end - start + 1) // 2) - 1\n",
				"\n",
				"  yield from mergesort(A, start, mid)\n",
				"  yield from mergesort(A, mid + 1, end)\n",
				"  yield from merge(A, start, mid, end)\n",
				"\n",
				"\n",
				"def merge(A, start, mid, end):\n",
				"  merged = []\n",
				"  leftIdx = start\n",
				"  rightIdx = mid + 1\n",
				"\n",
				"  while leftIdx <= mid and rightIdx <= end:\n",
				"    if A[leftIdx] < A[rightIdx]:\n",
				"      merged.append(A[leftIdx])\n",
				"      leftIdx += 1\n",
				"    else:\n",
				"      merged.append(A[rightIdx])\n",
				"      rightIdx += 1\n",
				"\n",
				"  while leftIdx <= mid:\n",
				"    merged.append(A[leftIdx])\n",
				"    leftIdx += 1\n",
				"\n",
				"  while rightIdx <= end:\n",
				"    merged.append(A[rightIdx])\n",
				"    rightIdx += 1\n",
				"\n",
				"  for i in range(len(merged)):\n",
				"    A[start + i] = merged[i]\n",
				"    yield A\n",
				"\n",
				"\n",
				"show(lambda a: mergesort(a, 0, len(a) - 1))"
			]
		},
		{
			"cell_type": "markdown",
			"metadata": {},
			"source": [
				"#### Vizualizácia Quick Sortu"
			]
		},
		{
			"cell_type": "code",
			"execution_count": null,
			"metadata": {},
			"outputs": [],
			"source": [
				"def quicksort(a, l, r):\n",
				"  if l >= r:\n",
				"    return\n",
				"  x = a[l]\n",
				"  j = l\n",
				"  for i in range(l + 1, r + 1):\n",
				"    if a[i] <= x:\n",
				"      j += 1\n",
				"      a[j], a[i] = a[i], a[j]\n",
				"    yield a\n",
				"  a[l], a[j] = a[j], a[l]\n",
				"  yield a\n",
				"\n",
				"  yield from quicksort(a, l, j - 1)\n",
				"  yield from quicksort(a, j + 1, r)\n",
				"\n",
				"show(lambda a: quicksort(a, 0, len(a) - 1))"
			]
		},
		{
			"cell_type": "markdown",
			"metadata": {},
			"source": [
				"Benchmarking a porovnanie\n",
				"-------------------------\n",
				"\n",
				"Benchmarking je dôležitý proces pri hodnotení výkonnosti triediacich algoritmov. Pomáha porovnať rôzne algoritmy podľa ich efektivity a vhodnosti pre konkrétne použitie.\n",
				"\n",
				"### Úvod do benchmarkingu\n",
				"\n",
				"Benchmarking zahŕňa vykonávanie rôznych experimentov s triediacimi algoritmami a zaznamenávanie ich výkonnosti podľa rôznych metrík, ako sú čas trvania triedenia, pamäťové nároky a stabilita algoritmu.\n",
				"\n",
				"### Návrh benchmarkových experimentov\n",
				"\n",
				"Dôležitou súčasťou benchmarkingu je správne navrhnutie experimentov. To zahŕňa vytvorenie rôznych testovacích sád s rôznymi typmi vstupných dát, ako aj rôznymi veľkosťami vstupov.\n",
				"\n",
				"### Implementácia benchmarkingu\n",
				"\n",
				"Po navrhnutí experimentov je potrebné implementovať benchmarkingový kód, ktorý spustí rôzne triediace algoritmy na testovacích dátach a zaznamená ich výsledky.\n",
				"\n",
				"### Porovnanie výsledkov\n",
				"\n",
				"Po vykonaní benchmarkingových experimentov je čas na porovnanie výsledkov a zhodnotenie výkonnosti jednotlivých algoritmov. Pri porovnávaní algoritmov by sa malo zohľadniť niekoľko faktorov, vrátane:\n",
				"\n",
				"- Čas triedenia.\n",
				"- Pamäťové nároky.\n",
				"- Stabilita a robustnosť."
			]
		},
		{
			"cell_type": "markdown",
			"metadata": {},
			"source": [
				"Implementácia\n",
				"-------------\n",
				"\n",
				"### Importy"
			]
		},
		{
			"cell_type": "code",
			"execution_count": null,
			"metadata": {
				"tags": [
					"hide-output"
				]
			},
			"outputs": [],
			"source": [
				"import random\n",
				"import time\n",
				"from statistics import mean\n",
				"import pandas as pd\n",
				"import matplotlib.pyplot as plt\n",
				"from tqdm import tqdm\n"
			]
		},
		{
			"cell_type": "markdown",
			"metadata": {},
			"source": [
				"### Nastavenie testovacích dát"
			]
		},
		{
			"cell_type": "code",
			"execution_count": null,
			"metadata": {},
			"outputs": [],
			"source": [
				"velkosti_testovacich_sad = [x for x in range(0, 3200, 200)]\n",
				"pocet_opakovani_pre_jednu_velkost = 1\n"
			]
		},
		{
			"cell_type": "markdown",
			"metadata": {},
			"source": [
				"### Vytvorenie dataframe-u a testovacích dát"
			]
		},
		{
			"cell_type": "code",
			"execution_count": null,
			"metadata": {},
			"outputs": [],
			"source": [
				"df = pd.DataFrame()\n",
				"df['Velkost sady'] = velkosti_testovacich_sad\n",
				"test_arrays = {i: [random.randint(1, 5000) for _ in range(i)] for i in velkosti_testovacich_sad}\n"
			]
		},
		{
			"cell_type": "markdown",
			"metadata": {},
			"source": [
				"### Visualizačná funkcia"
			]
		},
		{
			"cell_type": "code",
			"execution_count": null,
			"metadata": {},
			"outputs": [],
			"source": [
				"def visualise(name):\n",
				"  global df\n",
				"  # plt.figure(figsize=(10, 7))\n",
				"  plt.plot(df['Velkost sady'], df[name], label=name)\n",
				"  plt.legend()\n",
				"  plt.title('Porovnanie časových náročností rôznych triedianích algoritmov')\n",
				"  plt.xlabel('Veľkosť sady (n)')\n",
				"  plt.ylabel('Čas (s)')\n",
				"  plt.show()\n"
			]
		},
		{
			"cell_type": "markdown",
			"metadata": {},
			"source": [
				"### Benchmarkovacia funkcia"
			]
		},
		{
			"cell_type": "code",
			"execution_count": null,
			"metadata": {},
			"outputs": [],
			"source": [
				"def benchmark(func, name):\n",
				"  global velkosti_testovacich_sad, test_arrays, df\n",
				"\n",
				"  times = []\n",
				"  temp = []\n",
				"  print(f'Benchmark pre {name}')\n",
				"  for i in tqdm(velkosti_testovacich_sad, desc='Prebieha benchmarkovanie:'):\n",
				"    for _ in range(pocet_opakovani_pre_jednu_velkost):\n",
				"      start = time.time()\n",
				"      func(test_arrays[i].copy())\n",
				"      end = time.time()\n",
				"      temp.append(end - start)\n",
				"    times.append(mean(temp))\n",
				"    temp = []\n",
				"  df[name] = times\n",
				"  visualise(name)\n"
			]
		},
		{
			"cell_type": "markdown",
			"metadata": {},
			"source": [
				"#### Benchmark Bubble Sortu"
			]
		},
		{
			"cell_type": "code",
			"execution_count": null,
			"metadata": {},
			"outputs": [],
			"source": [
				"benchmark(bubble_sort, 'Bubble Sort')"
			]
		},
		{
			"cell_type": "markdown",
			"metadata": {},
			"source": [
				"#### Benchmark Selection Sortu"
			]
		},
		{
			"cell_type": "code",
			"execution_count": null,
			"metadata": {},
			"outputs": [],
			"source": [
				"benchmark(selection_sort, 'Selection Sort')"
			]
		},
		{
			"cell_type": "markdown",
			"metadata": {},
			"source": [
				"#### Benchmark Insertion Sortu"
			]
		},
		{
			"cell_type": "code",
			"execution_count": null,
			"metadata": {},
			"outputs": [],
			"source": [
				"benchmark(insertion_sort, 'Insertion Sort')"
			]
		},
		{
			"cell_type": "markdown",
			"metadata": {},
			"source": [
				"#### Benchmark Merge Sortu"
			]
		},
		{
			"cell_type": "code",
			"execution_count": null,
			"metadata": {},
			"outputs": [],
			"source": [
				"benchmark(merge_sort, 'Merge Sort')"
			]
		},
		{
			"cell_type": "markdown",
			"metadata": {},
			"source": [
				"#### Benchmark Quick Sortu"
			]
		},
		{
			"cell_type": "code",
			"execution_count": null,
			"metadata": {},
			"outputs": [],
			"source": [
				"benchmark(lambda arr: quick_sort(arr, 0, len(arr) - 1), 'Quick Sort')"
			]
		},
		{
			"cell_type": "markdown",
			"metadata": {},
			"source": [
				"#### Uloženie výsledkov do data.csv a ich zobrazenie"
			]
		},
		{
			"cell_type": "code",
			"execution_count": null,
			"metadata": {},
			"outputs": [],
			"source": [
				"# df.to_csv('data.csv', index=False)\n",
				"pd.set_option('display.precision', 4)\n",
				"df.head(None)"
			]
		},
		{
			"cell_type": "markdown",
			"metadata": {},
			"source": [
				"#### Ich celkové porovnanie"
			]
		},
		{
			"cell_type": "code",
			"execution_count": null,
			"metadata": {},
			"outputs": [],
			"source": [
				"# df = pd.read_csv('data.csv')\n",
				"\n",
				"plt.figure(figsize=(10, 7))\n",
				"for i in df.columns[1:]:\n",
				"  plt.plot(df['Velkost sady'], df[i], label=i)\n",
				"plt.legend()\n",
				"plt.title('Porovnanie časových náročností rôznych triedianích algoritmov')\n",
				"plt.xlabel('Veľkosť sady (n)')\n",
				"plt.ylabel('Čas (s)')\n",
				"plt.show()"
			]
		},
		{
			"cell_type": "markdown",
			"metadata": {},
			"source": [
				"### Záver\n",
				"V tomto projekte sme pracovali s rôznymi triediacimi algoritmami a vizualizovali sme ich fungovanie. Začali sme s implementáciou algoritmov ako Bubble Sort, Selection Sort, Insertion Sort, Merge Sort a Quick Sort. Následne sme vytvorili vizualizácie týchto algoritmov pomocou animácií.\n",
				"\n",
				"Okrem toho sme tiež vykonali benchmarking týchto algoritmov a porovnali sme ich výkonnosť na rôznych veľkostiach vstupných dát. Výsledky sme zaznamenali do dataframe-u a vizualizovali sme ich pomocou grafu.\n",
				"\n",
				"Zopakovali/Naučili sme sa základné princípy triediacich algoritmov a ich výkonnosť.A ako ich vizualizovať a porovnávať výsledky benchmarkingu.\n",
				"\n",
				"Ukazalo sa že najrýchlejší algoritmus je Quicksort a Mergesort ktoré má priemernú časovú zložitosť O(n log n) a sú často jednými z najrýchlejších triediacich algoritmov, čím sa potvrdila naša hypotéza."
			]
		}
	],
	"metadata": {
		"kernelspec": {
			"display_name": ".venv",
			"language": "python",
			"name": "python3"
		},
		"language_info": {
			"codemirror_mode": {
				"name": "ipython",
				"version": 3
			},
			"file_extension": ".py",
			"mimetype": "text/x-python",
			"name": "python",
			"nbconvert_exporter": "python",
			"pygments_lexer": "ipython3",
			"version": "3.12.2"
		}
	},
	"nbformat": 4,
	"nbformat_minor": 2
}
