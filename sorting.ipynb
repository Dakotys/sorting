{
	"cells": [
		{
			"cell_type": "markdown",
			"metadata": {},
			"source": [
				"Úvod\n",
				"----\n",
				"\n",
				"Triedenie je základná operácia v informatike a zohráva kľúčovú úlohu v rôznych aplikáciách, od jednoduchých úloh správy dát po komplexné algoritmické problémy. V jeho podstate triedenie znamená usporiadanie kolekcie položiek podľa určitých kritérií, obvykle vzostupne alebo zostupne.\n",
				"\n",
				"### Dôležitosť triedenia\n",
				"\n",
				"Význam triediacich algoritmov vyplýva z ich všadeprítomného použitia v každodennom živote a ich nevyhnutnej úlohy v počítačovom programovaní a vývoji softvéru. Tu sú niektoré kľúčové dôvody, prečo je triedenie dôležité:\n",
				"\n",
				"1.  Organizácia dát: Triedenie umožňuje organizáciu dát v štruktúrovanej forme, čím uľahčuje ich rýchlejšie vyhľadávanie, získavanie a analýzu.\n",
				"\n",
				"2.  Získavanie informácií: Triedené dáta uľahčujú rýchlejšie vyhľadávacie a získavacie operácie. Napríklad vyhľadávanie v triedenom zozname je efektívnejšie, pretože môžeme použiť efektívne vyhľadávacie algoritmy ako napríklad binárne vyhľadávanie.\n",
				"\n",
				"3.  Návrh algoritmov: Mnohé algoritmy a techniky riešenia problémov závisia od triedenia ako predspracovania alebo ako súčasť ich implementácie.\n",
				"\n",
				"4.  Používateľská skúsenosť: V aplikáciách určených pre používateľa, poskytovanie informácií v triedenom poradí zlepšuje používateľskú skúsenosť.\n",
				"\n",
				"### Rozsah triediacich algoritmov\n",
				"\n",
				"Triediace algoritmy sa líšia v zložitosti, efektívnosti a vhodnosti pre rôzne typy dát a veľkosti problémov. Môžu byť klasifikované podľa ich základných princípov, ako aj podľa ich časovej a priestorovej zložitosti.\n",
				"\n",
				"Existujú rôzne triediace algoritmy, od jednoduchých a intuitívnych metód ako Bubble sort a Insert sort po sofistikovanejšie metódy ako Merge sort, Quick sort atď.\n",
				"\n",
				"* * * * *"
			]
		},
		{
			"cell_type": "markdown",
			"metadata": {},
			"source": [
				"Typy triediacich algoritmov\n",
				"---------------------------\n",
				"\n",
				"### Porovnávacie triediace algoritmy\n",
				"\n",
				"Porovnávacie triediace algoritmy sú najbežnejším typom a pracujú porovnávaním jednotlivých prvkov vstupnej kolekcie a ich postupným presúvaním do správneho poradia. Tu sú niektoré z najznámejších porovnávacích triediacich algoritmov:\n",
				"\n",
				"- Bubble Sort\n",
				"- Selection Sort\n",
				"- Insertion Sort\n",
				"- Merge Sort\n",
				"- Quick Sort\n",
				"- Heap Sort\n"
			]
		},
		{
			"cell_type": "markdown",
			"metadata": {},
			"source": [
				"#### Testovacia funkcia"
			]
		},
		{
			"cell_type": "code",
			"execution_count": null,
			"metadata": {
				"slideshow": {
					"slide_type": "slide"
				},
				"tags": []
			},
			"outputs": [],
			"source": [
				"import random\n",
				"\n",
				"generated_data = [random.randint(1, 100) for _ in range(100)]\n",
				"\n",
				"def test(func):\n",
				"    data = generated_data.copy()\n",
				"    print(data)\n",
				"    func(data)\n",
				"    print(data)\n"
			]
		},
		{
			"cell_type": "markdown",
			"metadata": {},
			"source": [
				"#### Bubble Sort\n",
				"Bubble Sort je jednoduchý algoritmus, ktorý opakovane prechádza cez zoznam a porovnáva susedné prvky. Ak sú v nesprávnom poradí, vymenia sa. Tento proces sa opakuje, kým nie sú všetky prvky usporiadané.\n",
				"\n",
				"Tento algoritmus má časovú zložitosť O(n^2). Je vhodný pre malé zoznamy ale nie je efektívny pre veľké množstvo dát."
			]
		},
		{
			"cell_type": "code",
			"execution_count": null,
			"metadata": {},
			"outputs": [],
			"source": [
				"def bubble_sort(arr):\n",
				"    n = len(arr)\n",
				"    for i in range(n-1):\n",
				"        for j in range(0, n - i - 1):\n",
				"            if arr[j] > arr[j + 1]:\n",
				"                arr[j], arr[j + 1] = arr[j + 1], arr[j]\n",
				"\n",
				"test(bubble_sort)\n"
			]
		},
		{
			"cell_type": "markdown",
			"metadata": {},
			"source": [
				"#### Selection Sort\n",
				"Selection Sort funguje tak, že v každom kroku nájde najmenší prvok a presunie ho na správnu pozíciu. Tento proces sa opakuje, kým nie je celý zoznam usporiadaný.\n",
				"\n",
				"Časová zložitosť tohto algoritmu je tiež O(n^2), ale môže byť v praxi efektívnejší ako bublinkové triedenie pre veľké zoznamy, pretože má menej výmen."
			]
		},
		{
			"cell_type": "code",
			"execution_count": null,
			"metadata": {},
			"outputs": [],
			"source": [
				"def selection_sort(arr):\n",
				"  for step in range(len(arr)):\n",
				"    min_idx = step\n",
				"\n",
				"    for i in range(step + 1, len(arr)):\n",
				"      if arr[i] < arr[min_idx]:\n",
				"        min_idx = i\n",
				"    (arr[step], arr[min_idx]) = (arr[min_idx], arr[step])\n",
				"\n",
				"test(selection_sort)"
			]
		},
		{
			"cell_type": "markdown",
			"metadata": {},
			"source": [
				"#### Insertion Sort\n",
				"Insertion Sort funguje tak, že postupne vkladá prvky zoznamu do už usporiadaného poľa tak, aby výsledný zoznam zostal usporiadaný. Tento proces sa opakuje, kým nie sú všetky prvky vložené.\n",
				"\n",
				"Tento algoritmus má tiež časovú zložitosť O(n^2), ale je efektívnejší pre zoznamy, ktoré sú už čiastočne usporiadané."
			]
		},
		{
			"cell_type": "code",
			"execution_count": null,
			"metadata": {},
			"outputs": [],
			"source": [
				"def insertion_sort(arr):\n",
				"    for i in range(1, len(arr)):\n",
				"        key = arr[i]\n",
				"        j = i - 1\n",
				"        while j >= 0 and key < arr[j]:\n",
				"            arr[j + 1] = arr[j]\n",
				"            j -= 1\n",
				"        arr[j + 1] = key\n",
				"\n",
				"test(insertion_sort)"
			]
		},
		{
			"cell_type": "markdown",
			"metadata": {},
			"source": [
				"#### Merge Sort\n",
				"Merge Sort je efektívny algoritmus, ktorý využíva princíp rozdelenia a zlúčenia. Postupne delí zoznam na polovice, triedi ich a potom zlúči do výsledného usporiadaného zoznamu.\n",
				"\n",
				"Tento algoritmus má časovú zložitosť O(n log n), čo ho robí efektívnym pre veľké zoznamy. Jeho hlavnou nevýhodou je potreba dodatočnej pamäte pre zlúčenie podzoznamov."
			]
		},
		{
			"cell_type": "code",
			"execution_count": null,
			"metadata": {},
			"outputs": [],
			"source": [
				"def merge_sort(arr):\n",
				"    if len(arr) > 1:\n",
				"        mid = len(arr) // 2\n",
				"        L = arr[:mid]\n",
				"        R = arr[mid:]\n",
				"        merge_sort(L)\n",
				"        merge_sort(R)\n",
				"        i = j = k = 0\n",
				"        while i < len(L) and j < len(R):\n",
				"            if L[i] <= R[j]:\n",
				"                arr[k] = L[i]\n",
				"                i += 1\n",
				"            else:\n",
				"                arr[k] = R[j]\n",
				"                j += 1\n",
				"            k += 1\n",
				"        while i < len(L):\n",
				"            arr[k] = L[i]\n",
				"            i += 1\n",
				"            k += 1\n",
				"        while j < len(R):\n",
				"            arr[k] = R[j]\n",
				"            j += 1\n",
				"            k += 1\n",
				"\n",
				"test(merge_sort)"
			]
		},
		{
			"cell_type": "markdown",
			"metadata": {},
			"source": [
				"#### Quick Sort\n",
				"Quick Sort je založené na princípe rozdelenia a zjednotenia podľa pivotu. Zoznam je rozdelený na dve podmnožiny na základe pivotu a potom sú obe podmnožiny triedené rekurzívne.\n",
				"\n",
				"Tento algoritmus má priemernú časovú zložitosť O(n log n) a je často jedným z najrýchlejších triediacich algoritmov. Jeho efektivita však môže klesať v prípade, že je zoznam veľmi nevyvážený."
			]
		},
		{
			"cell_type": "code",
			"execution_count": null,
			"metadata": {},
			"outputs": [],
			"source": [
				"def partition(array, low, high):\n",
				"  pivot = array[high]\n",
				"  i = low - 1\n",
				"  for j in range(low, high):\n",
				"    if array[j] <= pivot:\n",
				"      i = i + 1\n",
				"      (array[i], array[j]) = (array[j], array[i])\n",
				"\n",
				"  (array[i + 1], array[high]) = (array[high], array[i + 1])\n",
				"  return i + 1\n",
				"\n",
				"\n",
				"def quick_sort(array, low, high):\n",
				"  if low < high:\n",
				"    pi = partition(array, low, high)\n",
				"    quick_sort(array, low, pi - 1)\n",
				"    quick_sort(array, pi + 1, high)\n",
				"\n",
				"test(lambda arr: quick_sort(arr, 0, len(arr) - 1))"
			]
		},
		{
			"cell_type": "markdown",
			"metadata": {},
			"source": [
				"#### Heap Sort\n",
				"Heap Sort je založené na štruktúre dát známej ako heap, ktorá umožňuje efektívne extrahovať a vkladať prvky. Princípom triedenia heapom je postupné odstraňovanie najvyššieho prvku a znovupostavenie heapu.\n",
				"\n",
				"Tento algoritmus má časovú zložitosť O(n log n) a nevyžaduje dodatočnú pamäť ako Merge sort. Je vhodný pre triedenie veľkých dátových množín."
			]
		},
		{
			"cell_type": "code",
			"execution_count": null,
			"metadata": {},
			"outputs": [],
			"source": [
				"def heapify(arr, N, i):\n",
				"    largest = i\n",
				"    l = 2 * i + 1\n",
				"    r = 2 * i + 2\n",
				"\n",
				"    if l < N and arr[largest] < arr[l]:\n",
				"        largest = l\n",
				"\n",
				"    if r < N and arr[largest] < arr[r]:\n",
				"        largest = r\n",
				"\n",
				"    if largest != i:\n",
				"        arr[i], arr[largest] = arr[largest], arr[i]\n",
				"\n",
				"        heapify(arr, N, largest)\n",
				"\n",
				"\n",
				"def heap_sort(arr):\n",
				"    N = len(arr)\n",
				"\n",
				"    for i in range(N // 2 - 1, -1, -1):\n",
				"        heapify(arr, N, i)\n",
				"\n",
				"    for i in range(N - 1, 0, -1):\n",
				"        arr[i], arr[0] = arr[0], arr[i]\n",
				"        heapify(arr, i, 0)\n",
				"\n",
				"\n",
				"test(heap_sort)"
			]
		},
		{
			"cell_type": "markdown",
			"metadata": {},
			"source": [
				"Vizualizácia triediacich algoritmov\n",
				"-----------------------------------\n",
				"\n",
				"Vizualizácia triediacich algoritmov je užitočný nástroj na pochopenie ich fungovania a porovnanie ich efektivity."
			]
		},
		{
			"cell_type": "code",
			"execution_count": null,
			"metadata": {},
			"outputs": [],
			"source": [
				"from matplotlib.animation import FuncAnimation\n",
				"import matplotlib.pyplot as plt\n",
				"import random\n",
				"import matplotlib as mp\n",
				"from helper import *\n",
				"\n",
				"n = 30\n",
				"delay = 100\n",
				"a = [i for i in range(1, n + 1)]\n",
				"random.shuffle(a)\n",
				"\n",
				"data_normalizer = mp.colors.Normalize()\n",
				"color_map = mp.colors.LinearSegmentedColormap(\n",
				"    \"my_map\",\n",
				"    {\n",
				"        \"red\": [(0, 1.0, 1.0), (1.0, 0.5, 0.5)],\n",
				"        \"green\": [(0, 0.5, 0.5), (1.0, 0, 0)],\n",
				"        \"blue\": [(0, 0.50, 0.5), (1.0, 0, 0)],\n",
				"    },\n",
				")\n",
				"\n",
				"\n",
				"def show(generator):\n",
				"    plt.style.use(\"fivethirtyeight\")\n",
				"    plt.rcParams[\"animation.html\"] = \"jshtml\"\n",
				"    # plt.rcParams[\"figure.dpi\"] = 150\n",
				"    # plt.ioff()\n",
				"\n",
				"    fig, ax = plt.subplots()\n",
				"    rects = ax.bar(\n",
				"        range(n), a, align=\"edge\", color=color_map(data_normalizer(range(n)))\n",
				"    )\n",
				"\n",
				"    ax.set_xlim(0, n)\n",
				"    ax.set_ylim(0, int(1.1 * n))\n",
				"\n",
				"    text = ax.text(0.01, 0.95, \"\", transform=ax.transAxes)\n",
				"\n",
				"    iteration = [0]\n",
				"\n",
				"    def animate(A, rects, iteration):\n",
				"        for rect, val in zip(rects, A):\n",
				"            rect.set_height(val)\n",
				"\n",
				"        text.set_text(f\"iterations : {iteration[0]}\")\n",
				"        iteration[0] += 1\n",
				"\n",
				"    return FuncAnimation(\n",
				"        fig,\n",
				"        func=animate,\n",
				"        fargs=(rects, iteration),\n",
				"        frames=generator(a.copy()),\n",
				"        interval=delay,\n",
				"        cache_frame_data=False,\n",
				"    )\n"
			]
		},
		{
			"cell_type": "markdown",
			"metadata": {},
			"source": [
				"#### Vizualizácia Bubble Sortu"
			]
		},
		{
			"cell_type": "code",
			"execution_count": null,
			"metadata": {},
			"outputs": [],
			"source": [
				"show(bubblesort)"
			]
		},
		{
			"cell_type": "markdown",
			"metadata": {},
			"source": [
				"#### Vizualizácia Selection Sortu"
			]
		},
		{
			"cell_type": "code",
			"execution_count": null,
			"metadata": {},
			"outputs": [],
			"source": [
				"show(selectionsort)"
			]
		},
		{
			"cell_type": "markdown",
			"metadata": {},
			"source": [
				"#### Vizualizácia Insertion Sortu"
			]
		},
		{
			"cell_type": "code",
			"execution_count": null,
			"metadata": {},
			"outputs": [],
			"source": [
				"show(insertionsort)"
			]
		},
		{
			"cell_type": "markdown",
			"metadata": {},
			"source": [
				"#### Vizualizácia Merge Sortu"
			]
		},
		{
			"cell_type": "code",
			"execution_count": null,
			"metadata": {},
			"outputs": [],
			"source": [
				"show(lambda a: mergesort(a, 0, len(a) - 1))"
			]
		},
		{
			"cell_type": "markdown",
			"metadata": {},
			"source": [
				"#### Vizualizácia Quick Sortu"
			]
		},
		{
			"cell_type": "code",
			"execution_count": null,
			"metadata": {},
			"outputs": [],
			"source": [
				"show(lambda a: quicksort(a, 0, len(a) - 1))"
			]
		},
		{
			"cell_type": "markdown",
			"metadata": {},
			"source": [
				"#### Vizualizácia Heap Sortu"
			]
		},
		{
			"cell_type": "code",
			"execution_count": null,
			"metadata": {},
			"outputs": [],
			"source": [
				"show(heapsort)"
			]
		},
		{
			"cell_type": "markdown",
			"metadata": {},
			"source": [
				"Benchmarking a porovnanie\n",
				"-------------------------\n",
				"\n",
				"Benchmarking je dôležitý proces pri hodnotení výkonnosti triediacich algoritmov. Pomáha porovnať rôzne algoritmy podľa ich efektivity a vhodnosti pre konkrétne použitie.\n",
				"\n",
				"### Úvod do benchmarkingu\n",
				"\n",
				"Benchmarking zahŕňa vykonávanie rôznych experimentov s triediacimi algoritmami a zaznamenávanie ich výkonnosti podľa rôznych metrík, ako sú čas trvania triedenia, pamäťové nároky a stabilita algoritmu.\n",
				"\n",
				"### Návrh benchmarkových experimentov\n",
				"\n",
				"Dôležitou súčasťou benchmarkingu je správne navrhnutie experimentov. To zahŕňa vytvorenie rôznych testovacích sád s rôznymi typmi vstupných dát, ako aj rôznymi veľkosťami vstupov.\n",
				"\n",
				"### Implementácia benchmarkingu\n",
				"\n",
				"Po navrhnutí experimentov je potrebné implementovať benchmarkingový kód, ktorý spustí rôzne triediace algoritmy na testovacích dátach a zaznamená ich výsledky.\n",
				"\n",
				"### Porovnanie výsledkov\n",
				"\n",
				"Po vykonaní benchmarkingových experimentov je čas na porovnanie výsledkov a zhodnotenie výkonnosti jednotlivých algoritmov. Pri porovnávaní algoritmov by sa malo zohľadniť niekoľko faktorov, vrátane:\n",
				"\n",
				"- Čas triedenia.\n",
				"- Pamäťové nároky.\n",
				"- Stabilita a robustnosť."
			]
		},
		{
			"cell_type": "markdown",
			"metadata": {},
			"source": [
				"Implementácia\n",
				"-------------\n",
				"\n",
				"### Importy"
			]
		},
		{
			"cell_type": "code",
			"execution_count": null,
			"metadata": {
				"tags": [
					"hide-output"
				]
			},
			"outputs": [],
			"source": [
				"import time\n",
				"from statistics import mean\n",
				"import pandas as pd\n",
				"import matplotlib.pyplot as plt\n",
				"from tqdm import tqdm"
			]
		},
		{
			"cell_type": "markdown",
			"metadata": {},
			"source": [
				"### Nastavenie testovacích dát"
			]
		},
		{
			"cell_type": "code",
			"execution_count": null,
			"metadata": {},
			"outputs": [],
			"source": [
				"velkosti_testovacich_sad = [x for x in range(0, 3200, 200)]\n",
				"pocet_opakovani_pre_jednu_velkost = 1"
			]
		},
		{
			"cell_type": "markdown",
			"metadata": {},
			"source": [
				"### Vytvorenie dataframe-u a testovacích dát"
			]
		},
		{
			"cell_type": "code",
			"execution_count": null,
			"metadata": {},
			"outputs": [],
			"source": [
				"df = pd.DataFrame()\n",
				"df[\"Velkost sady\"] = velkosti_testovacich_sad\n",
				"test_arrays = {\n",
				"    i: [random.randint(1, 5000) for _ in range(i)] for i in velkosti_testovacich_sad\n",
				"}"
			]
		},
		{
			"cell_type": "markdown",
			"metadata": {},
			"source": [
				"### Visualizačná funkcia"
			]
		},
		{
			"cell_type": "code",
			"execution_count": null,
			"metadata": {},
			"outputs": [],
			"source": [
				"def visualise(name):\n",
				"    global df\n",
				"    # plt.figure(figsize=(10, 7))\n",
				"    plt.plot(df[\"Velkost sady\"], df[name], label=name)\n",
				"    plt.legend()\n",
				"    plt.title(\"Porovnanie časových náročností rôznych triedianích algoritmov\")\n",
				"    plt.xlabel(\"Veľkosť sady (n)\")\n",
				"    plt.ylabel(\"Čas (s)\")\n",
				"    plt.show()\n"
			]
		},
		{
			"cell_type": "markdown",
			"metadata": {},
			"source": [
				"### Benchmarkovacia funkcia"
			]
		},
		{
			"cell_type": "code",
			"execution_count": null,
			"metadata": {},
			"outputs": [],
			"source": [
				"def benchmark(func, name):\n",
				"    global velkosti_testovacich_sad, test_arrays, df\n",
				"\n",
				"    times = []\n",
				"    temp = []\n",
				"    print(f\"Benchmark pre {name}\")\n",
				"    for i in tqdm(velkosti_testovacich_sad, desc=\"Prebieha benchmarkovanie:\"):\n",
				"        for _ in range(pocet_opakovani_pre_jednu_velkost):\n",
				"            start = time.time()\n",
				"            func(test_arrays[i].copy())\n",
				"            end = time.time()\n",
				"            temp.append(end - start)\n",
				"        times.append(mean(temp))\n",
				"        temp = []\n",
				"    df[name] = times\n",
				"    visualise(name)\n"
			]
		},
		{
			"cell_type": "markdown",
			"metadata": {},
			"source": [
				"#### Benchmark Bubble Sortu"
			]
		},
		{
			"cell_type": "code",
			"execution_count": null,
			"metadata": {},
			"outputs": [],
			"source": [
				"benchmark(bubble_sort, 'Bubble Sort')"
			]
		},
		{
			"cell_type": "markdown",
			"metadata": {},
			"source": [
				"#### Benchmark Selection Sortu"
			]
		},
		{
			"cell_type": "code",
			"execution_count": null,
			"metadata": {},
			"outputs": [],
			"source": [
				"benchmark(selection_sort, \"Selection Sort\")"
			]
		},
		{
			"cell_type": "markdown",
			"metadata": {},
			"source": [
				"#### Benchmark Insertion Sortu"
			]
		},
		{
			"cell_type": "code",
			"execution_count": null,
			"metadata": {},
			"outputs": [],
			"source": [
				"benchmark(insertion_sort, \"Insertion Sort\")"
			]
		},
		{
			"cell_type": "markdown",
			"metadata": {},
			"source": [
				"#### Benchmark Merge Sortu"
			]
		},
		{
			"cell_type": "code",
			"execution_count": null,
			"metadata": {},
			"outputs": [],
			"source": [
				"benchmark(merge_sort, \"Merge Sort\")"
			]
		},
		{
			"cell_type": "markdown",
			"metadata": {},
			"source": [
				"#### Benchmark Quick Sortu"
			]
		},
		{
			"cell_type": "code",
			"execution_count": null,
			"metadata": {},
			"outputs": [],
			"source": [
				"benchmark(lambda arr: quick_sort(arr, 0, len(arr) - 1), \"Quick Sort\")"
			]
		},
		{
			"cell_type": "markdown",
			"metadata": {},
			"source": [
				"#### Benchmark Heap Sortu"
			]
		},
		{
			"cell_type": "code",
			"execution_count": null,
			"metadata": {},
			"outputs": [],
			"source": [
				"benchmark(heap_sort, \"Heap Sort\")"
			]
		},
		{
			"cell_type": "markdown",
			"metadata": {},
			"source": [
				"#### Uloženie výsledkov do data.csv"
			]
		},
		{
			"cell_type": "code",
			"execution_count": null,
			"metadata": {},
			"outputs": [],
			"source": [
				"df.to_csv(\"data.csv\", index=False)"
			]
		},
		{
			"cell_type": "markdown",
			"metadata": {},
			"source": [
				"#### Ich celkové porovnanie"
			]
		},
		{
			"cell_type": "code",
			"execution_count": null,
			"metadata": {},
			"outputs": [],
			"source": [
				"df = pd.read_csv('data.csv')\n",
				"\n",
				"plt.figure(figsize=(10, 7))\n",
				"for i in df.columns[1:]:\n",
				"    plt.plot(df[\"Velkost sady\"], df[i], label=i)\n",
				"plt.legend()\n",
				"plt.title(\"Porovnanie časových náročností rôznych triedianích algoritmov\")\n",
				"plt.xlabel(\"Veľkosť sady (n)\")\n",
				"plt.ylabel(\"Čas (s)\")\n",
				"plt.show()\n"
			]
		},
		{
			"cell_type": "markdown",
			"metadata": {},
			"source": [
				"# Ďakujem za pozornosť!"
			]
		}
	],
	"metadata": {
		"kernelspec": {
			"display_name": ".venv",
			"language": "python",
			"name": "python3"
		},
		"language_info": {
			"codemirror_mode": {
				"name": "ipython",
				"version": 3
			},
			"file_extension": ".py",
			"mimetype": "text/x-python",
			"name": "python",
			"nbconvert_exporter": "python",
			"pygments_lexer": "ipython3",
			"version": "3.12.2"
		}
	},
	"nbformat": 4,
	"nbformat_minor": 2
}
